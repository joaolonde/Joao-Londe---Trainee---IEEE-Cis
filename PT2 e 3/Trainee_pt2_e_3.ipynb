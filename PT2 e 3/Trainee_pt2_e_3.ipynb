{
  "nbformat": 4,
  "nbformat_minor": 0,
  "metadata": {
    "colab": {
      "name": "Trainee pt2 e 3.ipynb",
      "provenance": [],
      "collapsed_sections": [
        "92eeu8uJbWzl",
        "lB7xYuD9xW-2",
        "1Pdb7FsgOnqY",
        "8lfMlYn-TLWk"
      ]
    },
    "kernelspec": {
      "name": "python3",
      "display_name": "Python 3"
    },
    "language_info": {
      "name": "python"
    }
  },
  "cells": [
    {
      "cell_type": "markdown",
      "source": [
        "# **Tratamento inicial e imports - Dataset Vinhos**"
      ],
      "metadata": {
        "id": "smTR_cHrFfvv"
      }
    },
    {
      "cell_type": "code",
      "source": [
        "import numpy as np\n",
        "import pandas as pd ## Apenas para testar o programa\n",
        "from collections import Counter  #Usada uma vez para determinar o elemento que mais aparece\n",
        "\n",
        "from random import seed     #Gera valores aleatórios\n",
        "from random import randint\n",
        "from random import sample\n",
        "\n",
        "import matplotlib as mat\n",
        "import matplotlib.pyplot as plt#Visualização de dados\n",
        "import seaborn as sns \n",
        "import statistics as stat\n",
        "import string as st\n",
        "\n",
        "import colorsys\n",
        "plt.style.use('seaborn-talk')\n",
        "import warnings\n",
        "warnings.filterwarnings(\"ignore\")\n",
        "%matplotlib inline\n",
        "\n",
        "from sklearn.preprocessing import StandardScaler\n",
        "from sklearn.model_selection import train_test_split\n",
        "from sklearn.linear_model import LinearRegression\n",
        "from sklearn.linear_model import LogisticRegression\n",
        "from sklearn.metrics import confusion_matrix\n",
        "from sklearn.svm import SVC\n",
        "from sklearn.neighbors import KNeighborsClassifier\n",
        "from sklearn.ensemble import RandomForestClassifier\n",
        "from sklearn.metrics import accuracy_score, recall_score\n",
        "from sklearn.model_selection import GridSearchCV\n",
        "from sklearn import model_selection\n",
        "from sklearn.ensemble import BaggingClassifier\n",
        "from sklearn.tree import DecisionTreeClassifier\n",
        "\n",
        "import imblearn\n",
        "from imblearn.over_sampling import RandomOverSampler\n",
        "from imblearn.under_sampling import RandomUnderSampler\n",
        "from imblearn.under_sampling import NearMiss\n",
        "\n",
        "\n",
        "from sklearn import linear_model"
      ],
      "metadata": {
        "id": "sdS4A3MaFjeO"
      },
      "execution_count": 1,
      "outputs": []
    },
    {
      "cell_type": "code",
      "source": [
        "df = pd.read_csv('winequality.csv')\n",
        "df = df.dropna()\n",
        "print(df.columns)\n",
        "\n",
        "df.describe()\n",
        "##Não há grandes discrepâncias\n",
        "\n",
        "df = df.dropna()\n",
        "\n"
      ],
      "metadata": {
        "colab": {
          "base_uri": "https://localhost:8080/"
        },
        "id": "EkqmYmYTFvma",
        "outputId": "c325ba8e-7033-4a64-e08c-554469d4e876"
      },
      "execution_count": 2,
      "outputs": [
        {
          "output_type": "stream",
          "name": "stdout",
          "text": [
            "Index(['Unnamed: 0', 'fixed acidity', 'volatile acidity', 'citric acid',\n",
            "       'residual sugar', 'chlorides', 'free sulfur dioxide',\n",
            "       'total sulfur dioxide', 'density', 'pH', 'sulphates', 'alcohol',\n",
            "       'quality', 'wine_is_red'],\n",
            "      dtype='object')\n"
          ]
        }
      ]
    },
    {
      "cell_type": "markdown",
      "source": [
        "# **Regressão Linear - Qualidade do vinho**"
      ],
      "metadata": {
        "id": "lB7xYuD9xW-2"
      }
    },
    {
      "cell_type": "code",
      "source": [
        "x = df[['fixed acidity', 'volatile acidity', 'citric acid',\n",
        "       'residual sugar', 'chlorides', 'free sulfur dioxide',\n",
        "       'total sulfur dioxide', 'density', 'pH', 'sulphates', 'alcohol']]\n",
        "\n",
        "x = x.to_numpy()\n",
        "\n",
        "y = df['quality']\n",
        "\n",
        "y = y.to_numpy()\n"
      ],
      "metadata": {
        "id": "5W5yhK1-xaji"
      },
      "execution_count": null,
      "outputs": []
    },
    {
      "cell_type": "code",
      "source": [
        "#Geramos as mesmas variáveis normalizadas\n",
        "\n",
        "standardizer = StandardScaler()\n",
        "\n",
        "x_norm = standardizer.fit_transform(x)"
      ],
      "metadata": {
        "id": "iFaszPIwzfB8"
      },
      "execution_count": null,
      "outputs": []
    },
    {
      "cell_type": "code",
      "source": [
        "x_treino, x_teste, y_treino, y_teste = train_test_split(x, y, test_size=0.25,\n",
        "                                                    random_state=0)\n",
        " \n",
        "# Cria o modelo\n",
        "reg = linear_model.LinearRegression()\n",
        " \n",
        "# Treinar o modelo\n",
        "reg.fit(x_treino, y_treino)\n",
        " \n",
        "# Coeficientes da regressão\n",
        "print('Coeficientes: ', reg.coef_)\n",
        " \n",
        "#Score\n",
        "print('Score: {}'.format(reg.score(x_teste, y_teste)))\n",
        " "
      ],
      "metadata": {
        "colab": {
          "base_uri": "https://localhost:8080/"
        },
        "id": "QSVuIwbexhMs",
        "outputId": "d264abbe-ec3c-4176-ed50-ba7aca5b5be4"
      },
      "execution_count": null,
      "outputs": [
        {
          "output_type": "stream",
          "name": "stdout",
          "text": [
            "Coeficientes:  [ 9.08047801e-02 -1.37351929e+00 -1.53945202e-01  4.49227609e-02\n",
            " -5.28421310e-01  5.79044964e-03 -2.44155462e-03 -6.36165907e+01\n",
            "  5.35899364e-01  7.55118293e-01  2.56631220e-01]\n",
            "Score: 0.2792422072312881\n"
          ]
        }
      ]
    },
    {
      "cell_type": "markdown",
      "source": [
        "Normalização\n"
      ],
      "metadata": {
        "id": "JjfSgisC0VI7"
      }
    },
    {
      "cell_type": "code",
      "source": [
        "x_treino, x_teste, y_treino, y_teste = train_test_split(x_norm, y, test_size=0.25,\n",
        "                                                    random_state=0)\n",
        " \n",
        "# Cria o modelo\n",
        "reg = linear_model.LinearRegression()\n",
        " \n",
        "# Treinar o modelo\n",
        "reg.fit(x_treino, y_treino)\n",
        " \n",
        "# Coeficientes da regressão\n",
        "print('Coeficientes: ', reg.coef_)\n",
        " \n",
        "#Score\n",
        "print('Score: {}'.format(reg.score(x_teste, y_teste)))"
      ],
      "metadata": {
        "colab": {
          "base_uri": "https://localhost:8080/"
        },
        "id": "6HFkVkn30Wx2",
        "outputId": "75e342c6-4842-4882-da51-f42340358747"
      },
      "execution_count": null,
      "outputs": [
        {
          "output_type": "stream",
          "name": "stdout",
          "text": [
            "Coeficientes:  [ 0.11771332 -0.22611397 -0.02236927  0.21371723 -0.01851108  0.1027691\n",
            " -0.13799057 -0.19075067  0.08615913  0.11235739  0.30606351]\n",
            "Score: 0.27924220723126725\n"
          ]
        }
      ]
    },
    {
      "cell_type": "markdown",
      "source": [
        "Percebe-se que a normalização apresentou um efeito baixo ao prever a qualidade do vinho."
      ],
      "metadata": {
        "id": "0ojAPn870pTX"
      }
    },
    {
      "cell_type": "markdown",
      "source": [
        "# **KNN sem bibliotecas - vinho tinto ou não**"
      ],
      "metadata": {
        "id": "1Pdb7FsgOnqY"
      }
    },
    {
      "cell_type": "code",
      "source": [
        "#Atribuimos as colunas\n",
        "\n",
        "x = df[['fixed acidity', 'volatile acidity', 'citric acid',\n",
        "       'residual sugar', 'chlorides', 'free sulfur dioxide',\n",
        "       'total sulfur dioxide', 'density', 'pH', 'sulphates', 'alcohol']]\n",
        "\n",
        "x = x.to_numpy()\n",
        "\n",
        "y = df['wine_is_red']\n",
        "\n",
        "y = y.to_numpy()\n"
      ],
      "metadata": {
        "id": "Dx66ewoh2FLG"
      },
      "execution_count": null,
      "outputs": []
    },
    {
      "cell_type": "code",
      "source": [
        "\n",
        "def distancia(x, y): #Calcula a distancia\n",
        "  dist = np.linalg.norm(x-y)\n",
        "  return dist\n",
        "\n",
        "def valor_k (k):\n",
        "  return k\n",
        "\n",
        "def previsao (x_teste, x_treino, y_treino, k):\n",
        "  final_output = []\n",
        "  for i in range(len(x_teste)):       ## Pega os índices dos dados de teste\n",
        "    d = []\n",
        "    votes = []\n",
        "    for j in range(len(x_treino)):    ##Pega os índices dos dados do treino e compara cada um com o dado teste\n",
        "      dist = distancia(x_treino[j] , x_teste[i])    #Calcula a distancia\n",
        "      d.append([dist, j])             ##Registra aqui na lista a distancia e o indice do treino\n",
        "    d.sort()                          #Ordena a lista e pega apenas até a distancia k\n",
        "    d = d[0:k]\n",
        "    for d, j in d:\n",
        "      votes.append(y_treino[j])        #Pega da lista os valores um por um e coloca o valor de y correspondente do treino\n",
        "    ans = Counter(votes).most_common(1)[0][0]  #Pega apenas o elemento que mais que aparece\n",
        "    final_output.append(ans)          #Devolve pra nós o elemento em uma lista.\n",
        "            \n",
        "  return final_output\n",
        "\n",
        "def score(x_teste, x_treino, y_teste, y_treino, k):\n",
        "  prev = previsao(x_teste, x_treino, y_treino, k)        #Pega a previsão\n",
        "  cont = 0\n",
        "  for i in range(len(prev)):\n",
        "    if prev[i] == y_teste[i]:\n",
        "      cont += 1\n",
        "  return cont / len(y_teste)   #Calcula a acurácia. O quanto bateu com o esperado\n",
        "\n",
        "\n"
      ],
      "metadata": {
        "id": "IcHm29vTO3Z_"
      },
      "execution_count": null,
      "outputs": []
    },
    {
      "cell_type": "code",
      "source": [
        "#Setamos a variável que vai dividir os dados em treino e teste\n",
        "\n",
        "tamanho = len(x)\n",
        "teste = int(0.2*tamanho)\n",
        "treino = tamanho - teste \n",
        "print('Tamanho do set: ', tamanho)\n",
        "print('Quantidade de teste: ', teste)\n",
        "print('Quantidade de treino: ', treino)\n"
      ],
      "metadata": {
        "colab": {
          "base_uri": "https://localhost:8080/"
        },
        "id": "ZyRHJJvN3Bik",
        "outputId": "705bcfec-1e40-4e59-e999-63fd28c3b8a9"
      },
      "execution_count": null,
      "outputs": [
        {
          "output_type": "stream",
          "name": "stdout",
          "text": [
            "Tamanho do set:  6497\n",
            "Quantidade de teste:  1299\n",
            "Quantidade de treino:  5198\n"
          ]
        }
      ]
    },
    {
      "cell_type": "code",
      "source": [
        "#Separamos os dados de treino e teste\n",
        "\n",
        "k = valor_k(2)\n",
        "x_treino = x[0:treino]\n",
        "x_teste = x[treino:]\n",
        "y_treino = y[0:treino]\n",
        "y_teste = y[treino:]\n",
        "\n",
        "#Chamamos o KNN\n",
        "\n",
        "predic = previsao(x_teste, x_treino, y_treino, k)\n",
        "\n",
        "#Vemos a eficácia do KNN em prever\n",
        "\n",
        "score = score(x_teste, x_treino, y_teste, y_treino, k)\n",
        "\n",
        "print(score)\n"
      ],
      "metadata": {
        "colab": {
          "base_uri": "https://localhost:8080/"
        },
        "id": "YNeG-_DUcdDR",
        "outputId": "6dc67a40-0767-45e6-d102-2fdf640c685b"
      },
      "execution_count": null,
      "outputs": [
        {
          "output_type": "stream",
          "name": "stdout",
          "text": [
            "0.9499615088529638\n"
          ]
        }
      ]
    },
    {
      "cell_type": "markdown",
      "source": [
        "**Normalizando antes **\n",
        "\n",
        "Aqui já fazemos o uso do Skcit Learn. Para o KNN acima não havíamos usado ainda\n",
        "\n"
      ],
      "metadata": {
        "id": "uy7Q8Z8dNKun"
      }
    },
    {
      "cell_type": "code",
      "source": [
        "#Normalizar os dados\n",
        "\n",
        "standardizer = StandardScaler()\n",
        "\n",
        "x_norm = standardizer.fit_transform(x)\n"
      ],
      "metadata": {
        "id": "rF7Bxve8NL2X"
      },
      "execution_count": null,
      "outputs": []
    },
    {
      "cell_type": "code",
      "source": [
        "#Separamos os dados em treino e teste\n",
        "\n",
        "k = valor_k(2)\n",
        "x_treino = x_norm[0:treino]\n",
        "x_teste = x_norm[treino:]\n",
        "y_treino = y[0:treino]\n",
        "y_teste = y[treino:]\n",
        "\n",
        "#Chamamos o KNN\n",
        "\n",
        "predic = previsao(x_teste, x_treino, y_treino, k)\n",
        "\n",
        "#Calculamos o score sem chamar a função, pois ela deu erro\n",
        "\n",
        "prev = predic        \n",
        "cont = 0\n",
        "for i in range(len(prev)):\n",
        "  if prev[i] == y_teste[i]:\n",
        "    cont += 1\n",
        "    \n",
        "score = cont / len(y_teste)\n",
        "\n",
        "print(score)"
      ],
      "metadata": {
        "colab": {
          "base_uri": "https://localhost:8080/"
        },
        "id": "HAYMxZc6OAtW",
        "outputId": "ae4c2eff-b6c7-42d5-ad15-0006eb2b8ab0"
      },
      "execution_count": null,
      "outputs": [
        {
          "output_type": "stream",
          "name": "stdout",
          "text": [
            "0.99153194765204\n"
          ]
        }
      ]
    },
    {
      "cell_type": "markdown",
      "source": [
        "Podemos observar que o primeiro KNN apresentou um alto nível de acurácia, ficando 94, quase 95%. \n",
        "\n",
        "Porém, ao normalizar os dados, percebe-se que essa acurácia chega ao valor de 99%, o que mostra que quanto menor o intervalo entre os valores, mais preciso o KNN vai ser"
      ],
      "metadata": {
        "id": "rlTCx4_WTQmY"
      }
    },
    {
      "cell_type": "markdown",
      "source": [
        "# **Classificação Binária - Regressão Logística - Vinho tinto ou não**"
      ],
      "metadata": {
        "id": "8lfMlYn-TLWk"
      }
    },
    {
      "cell_type": "code",
      "source": [
        "#Atribuimos as colunas\n",
        "\n",
        "x = df[['fixed acidity', 'volatile acidity', 'citric acid',\n",
        "       'residual sugar', 'chlorides', 'free sulfur dioxide',\n",
        "       'total sulfur dioxide', 'density', 'pH', 'sulphates', 'alcohol']]\n",
        "\n",
        "x = x.to_numpy()\n",
        "\n",
        "y = df['wine_is_red']\n",
        "\n",
        "y = y.to_numpy()"
      ],
      "metadata": {
        "id": "RhbCNr6FTqRt"
      },
      "execution_count": null,
      "outputs": []
    },
    {
      "cell_type": "code",
      "source": [
        "#Geramos as mesmas variáveis normalizadas\n",
        "\n",
        "standardizer = StandardScaler()\n",
        "\n",
        "x_norm = standardizer.fit_transform(x)\n"
      ],
      "metadata": {
        "id": "CgPrtKU2UEKq"
      },
      "execution_count": null,
      "outputs": []
    },
    {
      "cell_type": "code",
      "source": [
        "#Separamos os dados em treino e teste, sem normalizar\n",
        "x_treino, x_teste, y_treino, y_teste = train_test_split(x, y , test_size=0.25, random_state=0)"
      ],
      "metadata": {
        "id": "hZZWxglATs52"
      },
      "execution_count": null,
      "outputs": []
    },
    {
      "cell_type": "code",
      "source": [
        "#Procedemos com a regressão logística\n",
        "\n",
        "model = LogisticRegression()\n",
        "model.fit(x_treino, y_treino)"
      ],
      "metadata": {
        "colab": {
          "base_uri": "https://localhost:8080/"
        },
        "id": "JZ-YGByTUUrC",
        "outputId": "c39013c0-0acc-4d19-de6a-8a1719c2762f"
      },
      "execution_count": null,
      "outputs": [
        {
          "output_type": "execute_result",
          "data": {
            "text/plain": [
              "LogisticRegression()"
            ]
          },
          "metadata": {},
          "execution_count": 48
        }
      ]
    },
    {
      "cell_type": "code",
      "source": [
        "#Fazemos a previsão\n",
        "\n",
        "predictions = model.predict(x_teste)"
      ],
      "metadata": {
        "id": "2BfG3V8WUUxd"
      },
      "execution_count": null,
      "outputs": []
    },
    {
      "cell_type": "code",
      "source": [
        "#Testamos a acurácia\n",
        "\n",
        "cm = confusion_matrix(y_teste, predictions)\n",
        "\n",
        "TN, FP, FN, TP = confusion_matrix(y_teste, predictions).ravel()\n",
        "\n",
        "print('True Positive(TP)  = ', TP)\n",
        "print('False Positive(FP) = ', FP)\n",
        "print('True Negative(TN)  = ', TN)\n",
        "print('False Negative(FN) = ', FN)\n",
        "\n",
        "accuracy =  (TP+TN) /(TP+FP+TN+FN)\n",
        "\n",
        "print('Precisão da classificação binária = {:0.3f}'.format(accuracy))"
      ],
      "metadata": {
        "colab": {
          "base_uri": "https://localhost:8080/"
        },
        "id": "UxQ419ZxUxWp",
        "outputId": "9763d8cd-394b-4991-a6ae-0ad388c05948"
      },
      "execution_count": null,
      "outputs": [
        {
          "output_type": "stream",
          "name": "stdout",
          "text": [
            "True Positive(TP)  =  383\n",
            "False Positive(FP) =  11\n",
            "True Negative(TN)  =  1211\n",
            "False Negative(FN) =  20\n",
            "Precisão da classificação binária = 0.981\n"
          ]
        }
      ]
    },
    {
      "cell_type": "markdown",
      "source": [
        "**Testando o mesmo código com normalização**"
      ],
      "metadata": {
        "id": "VAzGr0SuX4RO"
      }
    },
    {
      "cell_type": "code",
      "source": [
        "#Separamos os dados em treino e teste, sem normalizar\n",
        "x_treino, x_teste, y_treino, y_teste = train_test_split(x_norm, y , test_size=0.25, random_state=0)"
      ],
      "metadata": {
        "id": "zRBoCDM9X87J"
      },
      "execution_count": null,
      "outputs": []
    },
    {
      "cell_type": "code",
      "source": [
        "#Procedemos com a regressão logística\n",
        "\n",
        "model = LogisticRegression()\n",
        "model.fit(x_treino, y_treino)"
      ],
      "metadata": {
        "colab": {
          "base_uri": "https://localhost:8080/"
        },
        "id": "X6Qaj72MYBr2",
        "outputId": "cb736436-129b-4f06-b01f-ed98b4734c13"
      },
      "execution_count": null,
      "outputs": [
        {
          "output_type": "execute_result",
          "data": {
            "text/plain": [
              "LogisticRegression()"
            ]
          },
          "metadata": {},
          "execution_count": 55
        }
      ]
    },
    {
      "cell_type": "code",
      "source": [
        "#Fazemos a previsão\n",
        "\n",
        "predictions = model.predict(x_teste)"
      ],
      "metadata": {
        "id": "zebL4VGiYDo8"
      },
      "execution_count": null,
      "outputs": []
    },
    {
      "cell_type": "code",
      "source": [
        "#Testamos a acurácia\n",
        "\n",
        "cm = confusion_matrix(y_teste, predictions)\n",
        "\n",
        "TN, FP, FN, TP = confusion_matrix(y_teste, predictions).ravel()\n",
        "\n",
        "print('True Positive(TP)  = ', TP)\n",
        "print('False Positive(FP) = ', FP)\n",
        "print('True Negative(TN)  = ', TN)\n",
        "print('False Negative(FN) = ', FN)\n",
        "\n",
        "accuracy =  (TP+TN) /(TP+FP+TN+FN)\n",
        "\n",
        "print('Precisão da classificação binária = {:0.3f}'.format(accuracy))"
      ],
      "metadata": {
        "colab": {
          "base_uri": "https://localhost:8080/"
        },
        "id": "MPxV0_0NYG0c",
        "outputId": "82c87280-fd44-4696-b7da-87e095f554ae"
      },
      "execution_count": null,
      "outputs": [
        {
          "output_type": "stream",
          "name": "stdout",
          "text": [
            "True Positive(TP)  =  401\n",
            "False Positive(FP) =  8\n",
            "True Negative(TN)  =  1214\n",
            "False Negative(FN) =  2\n",
            "Precisão da classificação binária = 0.994\n"
          ]
        }
      ]
    },
    {
      "cell_type": "markdown",
      "source": [
        "Percebe-se novamente que a acurácia aumenta quando utilizamos os valores normalizados"
      ],
      "metadata": {
        "id": "SEcAh8npY8zB"
      }
    },
    {
      "cell_type": "markdown",
      "source": [
        "# **SVM - Suport Vector Machine - qualidade do vinho**\n",
        "\n",
        "Vamos testar o modelo para prever a qualidade do vinho, tanto para dados crus e normalizados"
      ],
      "metadata": {
        "id": "bCXmtcvYZCGa"
      }
    },
    {
      "cell_type": "code",
      "source": [
        "#Atribuimos as colunas\n",
        "\n",
        "x = df[['fixed acidity', 'volatile acidity', 'citric acid',\n",
        "       'residual sugar', 'chlorides', 'free sulfur dioxide',\n",
        "       'total sulfur dioxide', 'density', 'pH', 'sulphates', 'alcohol']]\n",
        "\n",
        "x = x.to_numpy()\n",
        "\n",
        "y = df['quality']\n",
        "\n",
        "y = y.to_numpy()"
      ],
      "metadata": {
        "id": "Z8-Zyd9ZdHRL"
      },
      "execution_count": null,
      "outputs": []
    },
    {
      "cell_type": "code",
      "source": [
        "#Geramos as mesmas variáveis normalizadas\n",
        "\n",
        "standardizer = StandardScaler()\n",
        "\n",
        "x_norm = standardizer.fit_transform(x)\n"
      ],
      "metadata": {
        "id": "pF8edzCFdSU1"
      },
      "execution_count": null,
      "outputs": []
    },
    {
      "cell_type": "code",
      "source": [
        "#Separamos os dados em treino e teste, sem normalizar\n",
        "x_treino, x_teste, y_treino, y_teste = train_test_split(x, y , test_size=0.25, random_state=0)"
      ],
      "metadata": {
        "id": "ZlvjHl7tdWRK"
      },
      "execution_count": null,
      "outputs": []
    },
    {
      "cell_type": "code",
      "source": [
        "#Geramos o modelo te treino\n",
        "\n",
        "svm_model_linear = SVC(kernel = 'linear', C = 1).fit(x_treino, y_treino)\n",
        "svm_predictions = svm_model_linear.predict(x_teste)\n",
        " \n",
        "# Acurácia do método\n",
        "accuracy = svm_model_linear.score(x_teste, y_teste)\n",
        " "
      ],
      "metadata": {
        "id": "rStlz7gydkkK"
      },
      "execution_count": null,
      "outputs": []
    },
    {
      "cell_type": "code",
      "source": [
        "print(accuracy)"
      ],
      "metadata": {
        "colab": {
          "base_uri": "https://localhost:8080/"
        },
        "id": "nI5nBDbvfRZM",
        "outputId": "a35fbbd1-8ff5-4e61-d981-898ce1cc271f"
      },
      "execution_count": null,
      "outputs": [
        {
          "output_type": "stream",
          "name": "stdout",
          "text": [
            "0.5304615384615384\n"
          ]
        }
      ]
    },
    {
      "cell_type": "markdown",
      "source": [
        "**Normalizando**\n"
      ],
      "metadata": {
        "id": "r0dQMzjAfxeF"
      }
    },
    {
      "cell_type": "code",
      "source": [
        "#Atribuimos as colunas\n",
        "\n",
        "x = df[['fixed acidity', 'volatile acidity', 'citric acid',\n",
        "       'residual sugar', 'chlorides', 'free sulfur dioxide',\n",
        "       'total sulfur dioxide', 'density', 'pH', 'sulphates', 'alcohol']]\n",
        "\n",
        "x = x.to_numpy()\n",
        "\n",
        "y = df['quality']\n",
        "\n",
        "y = y.to_numpy()"
      ],
      "metadata": {
        "id": "DXoZJWJifzNi"
      },
      "execution_count": null,
      "outputs": []
    },
    {
      "cell_type": "code",
      "source": [
        "#Geramos as mesmas variáveis normalizadas\n",
        "\n",
        "standardizer = StandardScaler()\n",
        "\n",
        "x_norm = standardizer.fit_transform(x)\n"
      ],
      "metadata": {
        "id": "pEcJrkyef1kO"
      },
      "execution_count": null,
      "outputs": []
    },
    {
      "cell_type": "code",
      "source": [
        "#Separamos os dados em treino e teste, sem normalizar\n",
        "x_treino, x_teste, y_treino, y_teste = train_test_split(x_norm, y , test_size=0.25, random_state=0)"
      ],
      "metadata": {
        "id": "pgjh9uUrf5H5"
      },
      "execution_count": null,
      "outputs": []
    },
    {
      "cell_type": "code",
      "source": [
        "#Geramos o modelo te treino\n",
        "\n",
        "svm_model_linear = SVC(kernel = 'linear', C = 1).fit(x_treino, y_treino)\n",
        "svm_predictions = svm_model_linear.predict(x_teste)\n",
        " \n",
        "# Acurácia do método\n",
        "accuracy = svm_model_linear.score(x_teste, y_teste)\n",
        " \n",
        "print(accuracy)"
      ],
      "metadata": {
        "id": "pbLAQk_vf7kG",
        "colab": {
          "base_uri": "https://localhost:8080/"
        },
        "outputId": "d88e016f-cdcd-4a1f-d561-247e515002a9"
      },
      "execution_count": null,
      "outputs": [
        {
          "output_type": "stream",
          "name": "stdout",
          "text": [
            "0.5261538461538462\n"
          ]
        }
      ]
    },
    {
      "cell_type": "markdown",
      "source": [
        "Para este caso, a normalização na verdade torna o modelo mais impreciso"
      ],
      "metadata": {
        "id": "1cKztL6Xh-IO"
      }
    },
    {
      "cell_type": "markdown",
      "source": [
        "**OverSample**"
      ],
      "metadata": {
        "id": "HRrrHtvnFzor"
      }
    },
    {
      "cell_type": "code",
      "source": [
        "#Atribuimos as colunas\n",
        "\n",
        "x = df[['fixed acidity', 'volatile acidity', 'citric acid',\n",
        "       'residual sugar', 'chlorides', 'free sulfur dioxide',\n",
        "       'total sulfur dioxide', 'density', 'pH', 'sulphates', 'alcohol']]\n",
        "\n",
        "x = x.to_numpy()\n",
        "\n",
        "y = df['quality']\n",
        "\n",
        "y = y.to_numpy()"
      ],
      "metadata": {
        "id": "gslikQWGF4oM"
      },
      "execution_count": null,
      "outputs": []
    },
    {
      "cell_type": "code",
      "source": [
        "oversample = RandomOverSampler(sampling_strategy='minority')\n",
        "# fit and apply the transform\n",
        "x_over, y_over = oversample.fit_resample(x, y)\n"
      ],
      "metadata": {
        "id": "SEGCmmKQGBO3"
      },
      "execution_count": null,
      "outputs": []
    },
    {
      "cell_type": "code",
      "source": [
        "#Separamos os dados em treino e teste, sem normalizar\n",
        "x_treino, x_teste, y_treino, y_teste = train_test_split(x_over, y_over , test_size=0.25, random_state=0)"
      ],
      "metadata": {
        "id": "3-sJp_42GcM5"
      },
      "execution_count": null,
      "outputs": []
    },
    {
      "cell_type": "code",
      "source": [
        "#Geramos o modelo te treino\n",
        "\n",
        "svm_model_linear = SVC(kernel = 'linear', C = 1).fit(x_treino, y_treino)\n",
        "svm_predictions = svm_model_linear.predict(x_teste)\n",
        " \n",
        "# Acurácia do método\n",
        "accuracy = svm_model_linear.score(x_teste, y_teste)\n",
        " \n",
        "print(accuracy)"
      ],
      "metadata": {
        "id": "QevJ7f1tGing",
        "colab": {
          "base_uri": "https://localhost:8080/"
        },
        "outputId": "c17f6d8a-5037-4539-8f17-fdf93d3c9209"
      },
      "execution_count": null,
      "outputs": [
        {
          "output_type": "stream",
          "name": "stdout",
          "text": [
            "0.6792452830188679\n"
          ]
        }
      ]
    },
    {
      "cell_type": "markdown",
      "source": [
        "Under Sampling"
      ],
      "metadata": {
        "id": "3Z1acbz2JAef"
      }
    },
    {
      "cell_type": "code",
      "source": [
        "#Atribuimos as colunas\n",
        "\n",
        "x = df[['fixed acidity', 'volatile acidity', 'citric acid',\n",
        "       'residual sugar', 'chlorides', 'free sulfur dioxide',\n",
        "       'total sulfur dioxide', 'density', 'pH', 'sulphates', 'alcohol']]\n",
        "\n",
        "x = x.to_numpy()\n",
        "\n",
        "y = df['quality']\n",
        "\n",
        "y = y.to_numpy()"
      ],
      "metadata": {
        "id": "DW30d5MvJENZ"
      },
      "execution_count": 3,
      "outputs": []
    },
    {
      "cell_type": "code",
      "source": [
        "undersample = NearMiss(version=2, n_neighbors=3)\n",
        "# transform the dataset\n",
        "x_under, y_under = undersample.fit_resample(x, y)"
      ],
      "metadata": {
        "id": "NcDhQws1JE8D"
      },
      "execution_count": 4,
      "outputs": []
    },
    {
      "cell_type": "code",
      "source": [
        "#Separamos os dados em treino e teste, sem normalizar\n",
        "x_treino, x_teste, y_treino, y_teste = train_test_split(x_under, y_under , test_size=0.25, random_state=0)"
      ],
      "metadata": {
        "id": "dA0dNSqMJa6P"
      },
      "execution_count": 5,
      "outputs": []
    },
    {
      "cell_type": "code",
      "source": [
        "#Geramos o modelo te treino\n",
        "\n",
        "svm_model_linear = SVC(kernel = 'linear', C = 1).fit(x_treino, y_treino)\n",
        "svm_predictions = svm_model_linear.predict(x_teste)\n",
        " \n",
        "# Acurácia do método\n",
        "accuracy = svm_model_linear.score(x_teste, y_teste)\n",
        " \n",
        "print(accuracy)"
      ],
      "metadata": {
        "colab": {
          "base_uri": "https://localhost:8080/"
        },
        "id": "ES9UR-7sJf5S",
        "outputId": "5ae459b8-3586-42da-eee9-f0b2c53b912d"
      },
      "execution_count": 6,
      "outputs": [
        {
          "output_type": "stream",
          "name": "stdout",
          "text": [
            "0.3333333333333333\n"
          ]
        }
      ]
    },
    {
      "cell_type": "markdown",
      "source": [
        "Percebe-se que o oversample ajuda o modelo, enquanto o undersample piora sua qualidade"
      ],
      "metadata": {
        "id": "vxhq2QqSKUUj"
      }
    },
    {
      "cell_type": "markdown",
      "source": [
        "# **KNN - Qualidade do vinho**"
      ],
      "metadata": {
        "id": "6n_nXIbZgsY5"
      }
    },
    {
      "cell_type": "code",
      "source": [
        "#Atribuimos as colunas\n",
        "\n",
        "x = df[['fixed acidity', 'volatile acidity', 'citric acid',\n",
        "       'residual sugar', 'chlorides', 'free sulfur dioxide',\n",
        "       'total sulfur dioxide', 'density', 'pH', 'sulphates', 'alcohol']]\n",
        "\n",
        "x = x.to_numpy()\n",
        "\n",
        "y = df['quality']\n",
        "\n",
        "y = y.to_numpy()"
      ],
      "metadata": {
        "id": "g-HGzObWgwJI"
      },
      "execution_count": null,
      "outputs": []
    },
    {
      "cell_type": "code",
      "source": [
        "#Geramos as mesmas variáveis normalizadas\n",
        "\n",
        "standardizer = StandardScaler()\n",
        "\n",
        "x_norm = standardizer.fit_transform(x)\n"
      ],
      "metadata": {
        "id": "OX8tw_R_gyQU"
      },
      "execution_count": null,
      "outputs": []
    },
    {
      "cell_type": "code",
      "source": [
        "#Separamos os dados em treino e teste, sem normalizar\n",
        "x_treino, x_teste, y_treino, y_teste = train_test_split(x, y , test_size=0.25, random_state=0)"
      ],
      "metadata": {
        "id": "qbw6hg4ThJ8L"
      },
      "execution_count": null,
      "outputs": []
    },
    {
      "cell_type": "code",
      "source": [
        "#Chamamos o método\n",
        "\n",
        "knn = KNeighborsClassifier(n_neighbors = 7).fit(x_treino, y_treino)\n",
        " \n",
        "# Acurácia do método\n",
        "accuracy = knn.score(x_teste, y_teste)\n",
        "print(accuracy)\n"
      ],
      "metadata": {
        "id": "g3c1sDD8hIM7",
        "colab": {
          "base_uri": "https://localhost:8080/"
        },
        "outputId": "58d17886-19ae-4e28-a76c-79d02dc3a200"
      },
      "execution_count": null,
      "outputs": [
        {
          "output_type": "stream",
          "name": "stdout",
          "text": [
            "0.47692307692307695\n"
          ]
        }
      ]
    },
    {
      "cell_type": "markdown",
      "source": [
        "OverSample"
      ],
      "metadata": {
        "id": "ZXMBBYi1KQif"
      }
    },
    {
      "cell_type": "code",
      "source": [
        "oversample = RandomOverSampler(sampling_strategy='minority')\n",
        "# Aplicamos o método de oversample\n",
        "x_over, y_over = oversample.fit_resample(x, y)"
      ],
      "metadata": {
        "id": "N1gSmpElKQIH"
      },
      "execution_count": null,
      "outputs": []
    },
    {
      "cell_type": "code",
      "source": [
        "#Separamos os dados em treino e teste, sem normalizar\n",
        "x_treino, x_teste, y_treino, y_teste = train_test_split(x_over, y_over , test_size=0.25, random_state=0)"
      ],
      "metadata": {
        "id": "iyCEur7GKxr8"
      },
      "execution_count": null,
      "outputs": []
    },
    {
      "cell_type": "code",
      "source": [
        "##Chamamos o método\n",
        "\n",
        "knn = KNeighborsClassifier(n_neighbors = 7).fit(x_treino, y_treino)\n",
        " \n",
        "# Acurácia do método\n",
        "accuracy = knn.score(x_teste, y_teste)\n",
        "print(accuracy)\n"
      ],
      "metadata": {
        "colab": {
          "base_uri": "https://localhost:8080/"
        },
        "id": "4pYngnNPK0VY",
        "outputId": "da9610c0-ee78-45db-eb78-3f3812ec52d2"
      },
      "execution_count": null,
      "outputs": [
        {
          "output_type": "stream",
          "name": "stdout",
          "text": [
            "0.6333619210977701\n"
          ]
        }
      ]
    },
    {
      "cell_type": "markdown",
      "source": [
        "UnderSample"
      ],
      "metadata": {
        "id": "L1BHVw9KLQf7"
      }
    },
    {
      "cell_type": "code",
      "source": [
        "undersample = NearMiss(version=2, n_neighbors=3)\n",
        "# transform the dataset\n",
        "x_under, y_under = undersample.fit_resample(x, y)"
      ],
      "metadata": {
        "id": "fi5fsxQBLRt9"
      },
      "execution_count": null,
      "outputs": []
    },
    {
      "cell_type": "code",
      "source": [
        "#Separamos os dados em treino e teste, sem normalizar\n",
        "x_treino, x_teste, y_treino, y_teste = train_test_split(x_under, y_under , test_size=0.25, random_state=0)"
      ],
      "metadata": {
        "id": "5hjCbLe_Lj6X"
      },
      "execution_count": null,
      "outputs": []
    },
    {
      "cell_type": "code",
      "source": [
        "##Chamamos o método\n",
        "\n",
        "knn = KNeighborsClassifier(n_neighbors = 7).fit(x_treino, y_treino)\n",
        " \n",
        "# Acurácia do método\n",
        "accuracy = knn.score(x_teste, y_teste)\n",
        "print(accuracy)\n"
      ],
      "metadata": {
        "colab": {
          "base_uri": "https://localhost:8080/"
        },
        "id": "dZ7lz-mNLoK9",
        "outputId": "08751d10-170d-4488-afdc-e88e5af55036"
      },
      "execution_count": null,
      "outputs": [
        {
          "output_type": "stream",
          "name": "stdout",
          "text": [
            "0.564923076923077\n"
          ]
        }
      ]
    },
    {
      "cell_type": "markdown",
      "source": [
        "O método de Oversample se fez bem eficiente, pois foi capaz de aumentar a precisão do modelo em mais de 10 %, já o undersample abaixou e muito a precisão"
      ],
      "metadata": {
        "id": "zbKy9bb9Mh6A"
      }
    },
    {
      "cell_type": "markdown",
      "source": [
        "**Normalizando**\n"
      ],
      "metadata": {
        "id": "CWSdehtrkkzV"
      }
    },
    {
      "cell_type": "code",
      "source": [
        "#Separamos os dados em treino e teste, sem normalizar\n",
        "x_treino, x_teste, y_treino, y_teste = train_test_split(x_norm, y , test_size=0.25, random_state=0)"
      ],
      "metadata": {
        "id": "lFrU5w18kmLg"
      },
      "execution_count": null,
      "outputs": []
    },
    {
      "cell_type": "code",
      "source": [
        "#Chamamos o método\n",
        "\n",
        "knn = KNeighborsClassifier(n_neighbors = 7).fit(x_treino, y_treino)\n",
        " \n",
        "# Acurácia do método\n",
        "accuracy = knn.score(x_teste, y_teste)\n",
        "print(accuracy)\n"
      ],
      "metadata": {
        "colab": {
          "base_uri": "https://localhost:8080/"
        },
        "id": "GElBLD4Hkrrd",
        "outputId": "0562360f-efed-42a9-c672-576a60dc821c"
      },
      "execution_count": null,
      "outputs": [
        {
          "output_type": "stream",
          "name": "stdout",
          "text": [
            "0.564923076923077\n"
          ]
        }
      ]
    },
    {
      "cell_type": "markdown",
      "source": [
        "Percebe-se que para o KNN trabalhar com dados normalizados melhora a precisão"
      ],
      "metadata": {
        "id": "A_-SoZy9kzJd"
      }
    },
    {
      "cell_type": "markdown",
      "source": [
        "**Ensemble Learning**"
      ],
      "metadata": {
        "id": "yGhWrTkBP6Xp"
      }
    },
    {
      "cell_type": "code",
      "source": [
        "#Usamos os dados normalizados"
      ],
      "metadata": {
        "id": "HqjGFmJ4P_vM"
      },
      "execution_count": null,
      "outputs": []
    },
    {
      "cell_type": "code",
      "source": [
        "kfold = model_selection.KFold(n_splits=10)\n",
        "cart = DecisionTreeClassifier()\n",
        "num_trees = 100\n",
        "model = BaggingClassifier(base_estimator=cart, n_estimators=num_trees, random_state=7)\n",
        "results = model_selection.cross_val_score(model, x_norm, y, cv=kfold)\n",
        "print(results.mean())"
      ],
      "metadata": {
        "colab": {
          "base_uri": "https://localhost:8080/"
        },
        "id": "30UhSxfxP9EI",
        "outputId": "8ae420c6-bf97-4dab-df0d-3c9ce949f84b"
      },
      "execution_count": null,
      "outputs": [
        {
          "output_type": "stream",
          "name": "stdout",
          "text": [
            "0.6963195448619177\n"
          ]
        }
      ]
    },
    {
      "cell_type": "markdown",
      "source": [
        "O método de ensamble learning também melhora o modelo, gerando uma precisão maior até que o Oversample"
      ],
      "metadata": {
        "id": "2I4RfvhQKfhM"
      }
    },
    {
      "cell_type": "markdown",
      "source": [
        "# **Random Forest - Tinto ou não**"
      ],
      "metadata": {
        "id": "KC7dsUD50zyg"
      }
    },
    {
      "cell_type": "code",
      "source": [
        "x = df[['fixed acidity', 'volatile acidity', 'citric acid',\n",
        "       'residual sugar', 'chlorides', 'free sulfur dioxide',\n",
        "       'total sulfur dioxide', 'density', 'pH', 'sulphates', 'alcohol']]\n",
        "\n",
        "x = x.to_numpy()\n",
        "\n",
        "y = df['wine_is_red']\n",
        "\n",
        "y = y.to_numpy()"
      ],
      "metadata": {
        "id": "wn6UlcJP03Rv"
      },
      "execution_count": null,
      "outputs": []
    },
    {
      "cell_type": "code",
      "source": [
        "#Geramos as mesmas variáveis normalizadas\n",
        "\n",
        "standardizer = StandardScaler()\n",
        "\n",
        "x_norm = standardizer.fit_transform(x)\n"
      ],
      "metadata": {
        "id": "riCEUofW1pQR"
      },
      "execution_count": null,
      "outputs": []
    },
    {
      "cell_type": "code",
      "source": [
        "#Separamos os dados em treino e teste, sem normalizar\n",
        "x_treino, x_teste, y_treino, y_teste = train_test_split(x, y , test_size=0.25, random_state=0)"
      ],
      "metadata": {
        "id": "4ZVBkt3U1xqN"
      },
      "execution_count": null,
      "outputs": []
    },
    {
      "cell_type": "code",
      "source": [
        "#Instaciamos o classificador\n",
        "rfc = RandomForestClassifier()\n",
        "rfc.fit(x_treino, y_treino)\n",
        "\n",
        "y_pred=rfc.predict(x_teste)\n",
        "\n",
        "print('Score do teste: ', accuracy_score(y_teste,y_pred))\n",
        "\n",
        "print(\"Matriz de confusão: \\n\", confusion_matrix(y_teste,y_pred))"
      ],
      "metadata": {
        "colab": {
          "base_uri": "https://localhost:8080/"
        },
        "id": "c98P4luj1zjA",
        "outputId": "8ea9ddf8-7e72-4f44-d9c4-2b17c6f5dfd9"
      },
      "execution_count": null,
      "outputs": [
        {
          "output_type": "stream",
          "name": "stdout",
          "text": [
            "Score do teste:  0.9963076923076923\n",
            "Matriz de confusão: \n",
            " [[1219    3]\n",
            " [   3  400]]\n"
          ]
        }
      ]
    },
    {
      "cell_type": "code",
      "source": [
        "#Determinar as features que mais importam\n",
        "\n",
        "rfc.feature_importances_\n",
        "\n"
      ],
      "metadata": {
        "colab": {
          "base_uri": "https://localhost:8080/"
        },
        "id": "x4eMYgrt-opq",
        "outputId": "54b0e81b-393e-48b0-a507-034c7da6fba3"
      },
      "execution_count": null,
      "outputs": [
        {
          "output_type": "execute_result",
          "data": {
            "text/plain": [
              "array([0.03887435, 0.13418514, 0.01122884, 0.0366246 , 0.28137116,\n",
              "       0.05940192, 0.31333833, 0.04881769, 0.02029082, 0.04644463,\n",
              "       0.00942252])"
            ]
          },
          "metadata": {},
          "execution_count": 38
        }
      ]
    },
    {
      "cell_type": "markdown",
      "source": [
        "Agora vamos testar coisas novas, ver como os parametros influenciam a saída e em seguida aplica-los e ver o que acontece."
      ],
      "metadata": {
        "id": "dDlT5iby63uW"
      }
    },
    {
      "cell_type": "code",
      "source": [
        "param_grid = {\n",
        "    \"max_depth\": [4, 5, 6, 10, 20, 30], ##Profundidade máxima das arvores\n",
        "    \"max_features\": [\"auto\", \"sqrt\"],\n",
        "    \"n_estimators\": [20, 50, 100]   ##Número de árvores a serem testadas\n",
        "}\n",
        "\n",
        "cf = RandomForestClassifier()\n",
        "cf_cv = GridSearchCV(estimator=cf, param_grid=param_grid, cv=3)\n",
        "cf_cv.fit(x_treino, y_treino)\n",
        "\n",
        "cf_cv.best_params_"
      ],
      "metadata": {
        "colab": {
          "base_uri": "https://localhost:8080/"
        },
        "id": "_eYFidOO63WO",
        "outputId": "8f09081a-9755-4b8e-906d-94aa6147de2b"
      },
      "execution_count": null,
      "outputs": [
        {
          "output_type": "execute_result",
          "data": {
            "text/plain": [
              "{'max_depth': 30, 'max_features': 'sqrt', 'n_estimators': 50}"
            ]
          },
          "metadata": {},
          "execution_count": 49
        }
      ]
    },
    {
      "cell_type": "code",
      "source": [
        "#Passa os parametros pro algoritmo\n",
        "\n",
        "rfc1=RandomForestClassifier(random_state=42, max_features='sqrt', n_estimators= 50, max_depth=30)"
      ],
      "metadata": {
        "id": "kJeH0Kkj9ddu"
      },
      "execution_count": null,
      "outputs": []
    },
    {
      "cell_type": "code",
      "source": [
        "rfc.fit(x_treino, y_treino)\n",
        "\n",
        "y_pred=rfc.predict(x_teste)\n",
        "\n",
        "print('Score do teste: ', accuracy_score(y_teste,y_pred))"
      ],
      "metadata": {
        "colab": {
          "base_uri": "https://localhost:8080/"
        },
        "id": "rs7MEKVk9jgg",
        "outputId": "da4f875b-720b-44d2-9efc-83c1d761ce09"
      },
      "execution_count": null,
      "outputs": [
        {
          "output_type": "stream",
          "name": "stdout",
          "text": [
            "Score do teste:  0.9963076923076923\n"
          ]
        }
      ]
    },
    {
      "cell_type": "markdown",
      "source": [
        "Para o caso não houve grande diferença, mas a principio isso pode ser explicado pela score muito elevado, sendo necessário um modelo quase perfeito para aumentá-lo."
      ],
      "metadata": {
        "id": "wpCmVH78Ah1i"
      }
    }
  ]
}